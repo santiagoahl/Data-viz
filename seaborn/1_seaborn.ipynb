{
  "nbformat": 4,
  "nbformat_minor": 0,
  "metadata": {
    "colab": {
      "provenance": [],
      "collapsed_sections": [],
      "authorship_tag": "ABX9TyNX1Siglxq9VAhFzi61Sqgo",
      "include_colab_link": true
    },
    "kernelspec": {
      "name": "python3",
      "display_name": "Python 3"
    },
    "language_info": {
      "name": "python"
    }
  },
  "cells": [
    {
      "cell_type": "markdown",
      "metadata": {
        "id": "view-in-github",
        "colab_type": "text"
      },
      "source": [
        "<a href=\"https://colab.research.google.com/github/santiagoahl/Data-viz/blob/main/1_seaborn.ipynb\" target=\"_parent\"><img src=\"https://colab.research.google.com/assets/colab-badge.svg\" alt=\"Open In Colab\"/></a>"
      ]
    },
    {
      "cell_type": "markdown",
      "source": [
        "# What is Seaborn?\n",
        "\n",
        "Seaborn is a python visualization tool\n",
        "\n",
        "- Written by Michael Waskom\n",
        "- Built on Matplotlob\n",
        "- Integrated with pandas\n",
        "\n",
        "And it has lots of advantages such like \n",
        "\n",
        "- Simple\n",
        "- Very fast\n",
        "-Customizable\n"
      ],
      "metadata": {
        "id": "7ZHf-g6P42g2"
      }
    },
    {
      "cell_type": "markdown",
      "source": [
        "## Basic structure\n",
        "\n",
        "\n",
        "```\n",
        "sns.my_graph_type(\n",
        "  data=my_dataset,\n",
        "  x=my_X_data,\n",
        "  y=my_y_data,\n",
        "  hue=my_grouping_variable)\n",
        "```\n",
        "\n",
        "## Graph types\n",
        "\n",
        "1. `relplot`(Relational)\n",
        "  - `scatterplot`\n",
        "  - `lineplot`\n",
        "2. `displot` (Ditributions)\n",
        "  - `histplot`\n",
        "  - `kdeplot`\n",
        "  - `ecdplot`\n",
        "  - `rugplot`\n",
        "3. `catplot` (Categorical)\n",
        "\n",
        "  - `striplot`\n",
        "  - `swarmplot`\n",
        "  -`boxplot`\n",
        "  -`violinplot`\n",
        "  -`pointplot`\n",
        "  -`barplot`\n"
      ],
      "metadata": {
        "id": "9s3kx2E69-4B"
      }
    }
  ]
}
