{
  "nbformat": 4,
  "nbformat_minor": 0,
  "metadata": {
    "colab": {
      "provenance": [],
      "authorship_tag": "ABX9TyMFzA3fFzdFuhPxzKaJEnTQ",
      "include_colab_link": true
    },
    "kernelspec": {
      "name": "python3",
      "display_name": "Python 3"
    },
    "language_info": {
      "name": "python"
    }
  },
  "cells": [
    {
      "cell_type": "markdown",
      "metadata": {
        "id": "view-in-github",
        "colab_type": "text"
      },
      "source": [
        "<a href=\"https://colab.research.google.com/github/santiagoahl/Data-viz/blob/main/why_is_data_visualization_important.ipynb\" target=\"_parent\"><img src=\"https://colab.research.google.com/assets/colab-badge.svg\" alt=\"Open In Colab\"/></a>"
      ]
    },
    {
      "cell_type": "markdown",
      "source": [
        "# Why is Data Visualization so important in DS\n",
        "\n",
        "*Data visualization gives you data that didn't know*\n",
        "\n",
        "- It gives a  good panoramic and context\n",
        "- You can find meaningful data insights\n",
        "- Better code quality\n",
        "\n"
      ],
      "metadata": {
        "id": "t1qePhSJ3_fG"
      }
    },
    {
      "cell_type": "markdown",
      "source": [
        "## What is matplotlit\n",
        "\n",
        "- Created by John D. Hunter in 2003\n",
        "- Emules matlab \n",
        "- Uses Numpy\n",
        "- Written with python\n",
        "\n",
        "It's very simple, customizable and fast!"
      ],
      "metadata": {
        "id": "nV8vTFK84d1c"
      }
    }
  ]
}